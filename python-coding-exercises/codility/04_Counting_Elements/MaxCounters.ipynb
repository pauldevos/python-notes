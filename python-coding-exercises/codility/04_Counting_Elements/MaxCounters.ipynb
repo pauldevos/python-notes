{
 "cells": [
  {
   "cell_type": "markdown",
   "metadata": {},
   "source": [
    "### MaxCounters\n",
    "\n",
    "```\n",
    "You are given N counters, initially set to 0, and you have two possible operations on them:\n",
    "\n",
    "increase(X) − counter X is increased by 1,\n",
    "max counter − all counters are set to the maximum value of any counter.\n",
    "A non-empty array A of M integers is given. This array represents consecutive operations:\n",
    "\n",
    "if A[K] = X, such that 1 ≤ X ≤ N, then operation K is increase(X),\n",
    "if A[K] = N + 1 then operation K is max counter.\n",
    "For example, given integer N = 5 and array A such that:\n",
    "\n",
    "    A[0] = 3\n",
    "    A[1] = 4\n",
    "    A[2] = 4\n",
    "    A[3] = 6\n",
    "    A[4] = 1\n",
    "    A[5] = 4\n",
    "    A[6] = 4\n",
    "the values of the counters after each consecutive operation will be:\n",
    "\n",
    "    (0, 0, 1, 0, 0)\n",
    "    (0, 0, 1, 1, 0)\n",
    "    (0, 0, 1, 2, 0)\n",
    "    (2, 2, 2, 2, 2)\n",
    "    (3, 2, 2, 2, 2)\n",
    "    (3, 2, 2, 3, 2)\n",
    "    (3, 2, 2, 4, 2)\n",
    "The goal is to calculate the value of every counter after all operations.\n",
    "\n",
    "Write a function:\n",
    "\n",
    "def solution(N, A)\n",
    "\n",
    "that, given an integer N and a non-empty array A consisting of M integers, returns a sequence of integers representing the values of the counters.\n",
    "\n",
    "Result array should be returned as an array of integers.\n",
    "\n",
    "For example, given:\n",
    "\n",
    "    A[0] = 3\n",
    "    A[1] = 4\n",
    "    A[2] = 4\n",
    "    A[3] = 6\n",
    "    A[4] = 1\n",
    "    A[5] = 4\n",
    "    A[6] = 4\n",
    "the function should return [3, 2, 2, 4, 2], as explained above.\n",
    "\n",
    "Write an efficient algorithm for the following assumptions:\n",
    "\n",
    "N and M are integers within the range [1..100,000];\n",
    "each element of array A is an integer within the range [1..N + 1].\n",
    "```\n",
    "\n",
    "source:\n",
    "https://app.codility.com/programmers/lessons/4-counting_elements/max_counters/"
   ]
  },
  {
   "cell_type": "code",
   "execution_count": 12,
   "metadata": {},
   "outputs": [],
   "source": [
    "A = [3, 4, 4, 6, 1, 4, 4]"
   ]
  },
  {
   "cell_type": "code",
   "execution_count": 59,
   "metadata": {},
   "outputs": [],
   "source": [
    "def solution(N, A): #A = 5\n",
    "    array = [0] * N\n",
    "    for num in A:\n",
    "        if num <= N and num >= 1:\n",
    "            array[num-1] += 1\n",
    "        if num > N:\n",
    "            array = [max(array)] * N\n",
    "    return array"
   ]
  },
  {
   "cell_type": "code",
   "execution_count": 60,
   "metadata": {},
   "outputs": [
    {
     "data": {
      "text/plain": [
       "[3, 2, 2, 4, 2]"
      ]
     },
     "execution_count": 60,
     "metadata": {},
     "output_type": "execute_result"
    }
   ],
   "source": [
    "solution(5, A)"
   ]
  },
  {
   "cell_type": "code",
   "execution_count": 61,
   "metadata": {},
   "outputs": [
    {
     "name": "stdout",
     "output_type": "stream",
     "text": [
      "1.71 µs ± 21.7 ns per loop (mean ± std. dev. of 7 runs, 1000000 loops each)\n"
     ]
    }
   ],
   "source": [
    "%%timeit \n",
    "\n",
    "solution(5, A)"
   ]
  },
  {
   "cell_type": "code",
   "execution_count": 62,
   "metadata": {},
   "outputs": [
    {
     "data": {
      "text/plain": [
       "[3, 2, 2, 3, 3]"
      ]
     },
     "execution_count": 62,
     "metadata": {},
     "output_type": "execute_result"
    }
   ],
   "source": [
    "B = [3, 4, 4, 6, 1, 5, 4]\n",
    "solution(5, B)"
   ]
  },
  {
   "cell_type": "code",
   "execution_count": null,
   "metadata": {},
   "outputs": [],
   "source": []
  }
 ],
 "metadata": {
  "kernelspec": {
   "display_name": "Python 3.9",
   "language": "python",
   "name": "py39"
  },
  "language_info": {
   "codemirror_mode": {
    "name": "ipython",
    "version": 3
   },
   "file_extension": ".py",
   "mimetype": "text/x-python",
   "name": "python",
   "nbconvert_exporter": "python",
   "pygments_lexer": "ipython3",
   "version": "3.7.4"
  },
  "toc": {
   "base_numbering": 1,
   "nav_menu": {},
   "number_sections": false,
   "sideBar": true,
   "skip_h1_title": true,
   "title_cell": "Table of Contents",
   "title_sidebar": "Table of Contents",
   "toc_cell": false,
   "toc_position": {},
   "toc_section_display": true,
   "toc_window_display": false
  }
 },
 "nbformat": 4,
 "nbformat_minor": 4
}
