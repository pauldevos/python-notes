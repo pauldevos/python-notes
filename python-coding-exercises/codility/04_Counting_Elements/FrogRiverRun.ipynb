{
 "cells": [
  {
   "cell_type": "markdown",
   "metadata": {},
   "source": [
    "### FrogRiverRun\n",
    "\n",
    "```\n",
    "A small frog wants to get to the other side of a river. The frog is initially located on one bank of the river (position 0) and wants to get to the opposite bank (position X+1). Leaves fall from a tree onto the surface of the river.\n",
    "\n",
    "You are given an array A consisting of N integers representing the falling leaves. A[K] represents the position where one leaf falls at time K, measured in seconds.\n",
    "\n",
    "The goal is to find the earliest time when the frog can jump to the other side of the river. The frog can cross only when leaves appear at every position across the river from 1 to X (that is, we want to find the earliest moment when all the positions from 1 to X are covered by leaves). You may assume that the speed of the current in the river is negligibly small, i.e. the leaves do not change their positions once they fall in the river.\n",
    "\n",
    "For example, you are given integer X = 5 and array A such that:\n",
    "\n",
    "  A[0] = 1\n",
    "  A[1] = 3\n",
    "  A[2] = 1\n",
    "  A[3] = 4\n",
    "  A[4] = 2\n",
    "  A[5] = 3\n",
    "  A[6] = 5\n",
    "  A[7] = 4\n",
    "In second 6, a leaf falls into position 5. This is the earliest time when leaves appear in every position across the river.\n",
    "\n",
    "Write a function:\n",
    "\n",
    "def solution(X, A)\n",
    "\n",
    "that, given a non-empty array A consisting of N integers and integer X, returns the earliest time when the frog can jump to the other side of the river.\n",
    "\n",
    "If the frog is never able to jump to the other side of the river, the function should return −1.\n",
    "\n",
    "For example, given X = 5 and array A such that:\n",
    "\n",
    "  A[0] = 1\n",
    "  A[1] = 3\n",
    "  A[2] = 1\n",
    "  A[3] = 4\n",
    "  A[4] = 2\n",
    "  A[5] = 3\n",
    "  A[6] = 5\n",
    "  A[7] = 4\n",
    "the function should return 6, as explained above.\n",
    "\n",
    "Write an efficient algorithm for the following assumptions:\n",
    "\n",
    "N and X are integers within the range [1..100,000];\n",
    "each element of array A is an integer within the range [1..X].\n",
    "```\n",
    "\n",
    "source:\n",
    "https://app.codility.com/programmers/lessons/4-counting_elements/frog_river_one/"
   ]
  },
  {
   "cell_type": "code",
   "execution_count": 1,
   "metadata": {},
   "outputs": [],
   "source": [
    "A = [1, 3, 1, 4, 2, 3, 5, 4]"
   ]
  },
  {
   "cell_type": "code",
   "execution_count": 4,
   "metadata": {},
   "outputs": [
    {
     "data": {
      "text/plain": [
       "[1, 3, 1, 4, 2, 3, 5, 4]"
      ]
     },
     "execution_count": 4,
     "metadata": {},
     "output_type": "execute_result"
    }
   ],
   "source": [
    "A"
   ]
  },
  {
   "cell_type": "code",
   "execution_count": 6,
   "metadata": {},
   "outputs": [],
   "source": [
    "def solution(A):\n",
    "    l = len(A)\n",
    "    get_max = max(A)\n",
    "    d = {}\n",
    "    for index, num in enumerate(A):\n",
    "        if num not in d:\n",
    "            d[num] = 1\n",
    "            if len(d) == get_max:\n",
    "                return index\n",
    "        "
   ]
  },
  {
   "cell_type": "code",
   "execution_count": 7,
   "metadata": {},
   "outputs": [
    {
     "data": {
      "text/plain": [
       "6"
      ]
     },
     "execution_count": 7,
     "metadata": {},
     "output_type": "execute_result"
    }
   ],
   "source": [
    "solution(A)"
   ]
  },
  {
   "cell_type": "code",
   "execution_count": 10,
   "metadata": {},
   "outputs": [
    {
     "data": {
      "text/plain": [
       "15"
      ]
     },
     "execution_count": 10,
     "metadata": {},
     "output_type": "execute_result"
    }
   ],
   "source": [
    "B = [1, 3, 1, 4, 2, 3, 5, 4, 6, 8, 5, 2, 3, 7, 3]\n",
    "len(B)"
   ]
  },
  {
   "cell_type": "code",
   "execution_count": 13,
   "metadata": {},
   "outputs": [
    {
     "data": {
      "text/plain": [
       "13"
      ]
     },
     "execution_count": 13,
     "metadata": {},
     "output_type": "execute_result"
    }
   ],
   "source": [
    "B.index(7)"
   ]
  },
  {
   "cell_type": "code",
   "execution_count": 11,
   "metadata": {},
   "outputs": [
    {
     "data": {
      "text/plain": [
       "13"
      ]
     },
     "execution_count": 11,
     "metadata": {},
     "output_type": "execute_result"
    }
   ],
   "source": [
    "solution(B)"
   ]
  },
  {
   "cell_type": "code",
   "execution_count": null,
   "metadata": {},
   "outputs": [],
   "source": []
  }
 ],
 "metadata": {
  "kernelspec": {
   "display_name": "Python 3.9",
   "language": "python",
   "name": "py39"
  },
  "language_info": {
   "codemirror_mode": {
    "name": "ipython",
    "version": 3
   },
   "file_extension": ".py",
   "mimetype": "text/x-python",
   "name": "python",
   "nbconvert_exporter": "python",
   "pygments_lexer": "ipython3",
   "version": "3.7.4"
  },
  "toc": {
   "base_numbering": 1,
   "nav_menu": {},
   "number_sections": false,
   "sideBar": true,
   "skip_h1_title": true,
   "title_cell": "Table of Contents",
   "title_sidebar": "Table of Contents",
   "toc_cell": false,
   "toc_position": {},
   "toc_section_display": true,
   "toc_window_display": false
  }
 },
 "nbformat": 4,
 "nbformat_minor": 4
}
