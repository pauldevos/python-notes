{
 "cells": [
  {
   "cell_type": "code",
   "execution_count": 1,
   "id": "adf5dba6",
   "metadata": {},
   "outputs": [],
   "source": [
    "import attr"
   ]
  },
  {
   "cell_type": "code",
   "execution_count": 2,
   "id": "15e8c036",
   "metadata": {},
   "outputs": [
    {
     "data": {
      "text/plain": [
       "['Attribute',\n",
       " 'Factory',\n",
       " 'NOTHING',\n",
       " 'VersionInfo',\n",
       " '__all__',\n",
       " '__author__',\n",
       " '__builtins__',\n",
       " '__cached__',\n",
       " '__copyright__',\n",
       " '__description__',\n",
       " '__doc__',\n",
       " '__email__',\n",
       " '__file__',\n",
       " '__license__',\n",
       " '__loader__',\n",
       " '__name__',\n",
       " '__package__',\n",
       " '__path__',\n",
       " '__spec__',\n",
       " '__title__',\n",
       " '__uri__',\n",
       " '__url__',\n",
       " '__version__',\n",
       " '__version_info__',\n",
       " '_cmp',\n",
       " '_compat',\n",
       " '_config',\n",
       " '_funcs',\n",
       " '_make',\n",
       " '_next_gen',\n",
       " '_version_info',\n",
       " 'absolute_import',\n",
       " 'asdict',\n",
       " 'assoc',\n",
       " 'astuple',\n",
       " 'attr',\n",
       " 'attrib',\n",
       " 'attributes',\n",
       " 'attrs',\n",
       " 'cmp_using',\n",
       " 'converters',\n",
       " 'dataclass',\n",
       " 'define',\n",
       " 'division',\n",
       " 'evolve',\n",
       " 'exceptions',\n",
       " 'field',\n",
       " 'fields',\n",
       " 'fields_dict',\n",
       " 'filters',\n",
       " 'frozen',\n",
       " 'get_run_validators',\n",
       " 'has',\n",
       " 'ib',\n",
       " 'make_class',\n",
       " 'mutable',\n",
       " 'partial',\n",
       " 'print_function',\n",
       " 'resolve_types',\n",
       " 's',\n",
       " 'set_run_validators',\n",
       " 'setters',\n",
       " 'sys',\n",
       " 'validate',\n",
       " 'validators']"
      ]
     },
     "execution_count": 2,
     "metadata": {},
     "output_type": "execute_result"
    }
   ],
   "source": [
    "dir(attr)"
   ]
  },
  {
   "cell_type": "code",
   "execution_count": null,
   "id": "e46a3f76",
   "metadata": {},
   "outputs": [],
   "source": [
    "@attr.s\n",
    "class Student:\n",
    "    id = attr.ib()"
   ]
  },
  {
   "cell_type": "code",
   "execution_count": null,
   "id": "653f9302",
   "metadata": {},
   "outputs": [],
   "source": []
  },
  {
   "cell_type": "code",
   "execution_count": null,
   "id": "24b06e30",
   "metadata": {},
   "outputs": [],
   "source": []
  },
  {
   "cell_type": "code",
   "execution_count": null,
   "id": "d6dcfb6c",
   "metadata": {},
   "outputs": [],
   "source": []
  },
  {
   "cell_type": "code",
   "execution_count": null,
   "id": "fb12db15",
   "metadata": {},
   "outputs": [],
   "source": []
  },
  {
   "cell_type": "code",
   "execution_count": null,
   "id": "c30b602a",
   "metadata": {},
   "outputs": [],
   "source": []
  },
  {
   "cell_type": "code",
   "execution_count": null,
   "id": "6f5e5529",
   "metadata": {},
   "outputs": [],
   "source": []
  },
  {
   "cell_type": "code",
   "execution_count": null,
   "id": "baf138e0",
   "metadata": {},
   "outputs": [],
   "source": []
  },
  {
   "cell_type": "code",
   "execution_count": null,
   "id": "ab356056",
   "metadata": {},
   "outputs": [],
   "source": []
  },
  {
   "cell_type": "code",
   "execution_count": null,
   "id": "ddb308db",
   "metadata": {},
   "outputs": [],
   "source": []
  },
  {
   "cell_type": "code",
   "execution_count": null,
   "id": "9cab69c8",
   "metadata": {},
   "outputs": [],
   "source": []
  }
 ],
 "metadata": {
  "kernelspec": {
   "display_name": "Python [conda env:ml39]",
   "language": "python",
   "name": "conda-env-ml39-py"
  },
  "language_info": {
   "codemirror_mode": {
    "name": "ipython",
    "version": 3
   },
   "file_extension": ".py",
   "mimetype": "text/x-python",
   "name": "python",
   "nbconvert_exporter": "python",
   "pygments_lexer": "ipython3",
   "version": "3.9.7"
  },
  "toc": {
   "base_numbering": 1,
   "nav_menu": {},
   "number_sections": false,
   "sideBar": true,
   "skip_h1_title": true,
   "title_cell": "Table of Contents",
   "title_sidebar": "Table of Contents",
   "toc_cell": false,
   "toc_position": {},
   "toc_section_display": true,
   "toc_window_display": false
  }
 },
 "nbformat": 4,
 "nbformat_minor": 5
}
